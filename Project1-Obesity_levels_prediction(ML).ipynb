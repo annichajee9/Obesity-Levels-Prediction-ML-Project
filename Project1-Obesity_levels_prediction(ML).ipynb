{
 "cells": [
  {
   "cell_type": "markdown",
   "metadata": {},
   "source": [
    "# Estimation of Obesity Levels Based On Eating Habits and Physical Condition"
   ]
  },
  {
   "cell_type": "markdown",
   "metadata": {},
   "source": [
    "## Import needed libraries and dataset"
   ]
  },
  {
   "cell_type": "code",
   "execution_count": 668,
   "metadata": {},
   "outputs": [],
   "source": [
    "import pandas as pd\n",
    "import matplotlib.pyplot as plt\n",
    "import numpy as np\n",
    "import seaborn as sns\n",
    "\n",
    "from sklearn.preprocessing import OrdinalEncoder, LabelEncoder\n",
    "from sklearn.naive_bayes import GaussianNB, CategoricalNB\n",
    "\n",
    "from sklearn.metrics import confusion_matrix\n",
    "from sklearn.metrics import accuracy_score"
   ]
  },
  {
   "cell_type": "code",
   "execution_count": 669,
   "metadata": {},
   "outputs": [],
   "source": [
    "obesity = pd.read_csv(\"C:\\\\Users\\ASUS\\\\OneDrive\\\\Desktop\\\\ASU Online\\\\DAT402\\\\ObesityDataSet_raw_and_data_sinthetic.csv\")"
   ]
  },
  {
   "cell_type": "code",
   "execution_count": 670,
   "metadata": {},
   "outputs": [
    {
     "name": "stdout",
     "output_type": "stream",
     "text": [
      "(2111, 17)\n"
     ]
    },
    {
     "data": {
      "text/html": [
       "<div>\n",
       "<style scoped>\n",
       "    .dataframe tbody tr th:only-of-type {\n",
       "        vertical-align: middle;\n",
       "    }\n",
       "\n",
       "    .dataframe tbody tr th {\n",
       "        vertical-align: top;\n",
       "    }\n",
       "\n",
       "    .dataframe thead th {\n",
       "        text-align: right;\n",
       "    }\n",
       "</style>\n",
       "<table border=\"1\" class=\"dataframe\">\n",
       "  <thead>\n",
       "    <tr style=\"text-align: right;\">\n",
       "      <th></th>\n",
       "      <th>Gender</th>\n",
       "      <th>Age</th>\n",
       "      <th>Height</th>\n",
       "      <th>Weight</th>\n",
       "      <th>family_history_with_overweight</th>\n",
       "      <th>FAVC</th>\n",
       "      <th>FCVC</th>\n",
       "      <th>NCP</th>\n",
       "      <th>CAEC</th>\n",
       "      <th>SMOKE</th>\n",
       "      <th>CH2O</th>\n",
       "      <th>SCC</th>\n",
       "      <th>FAF</th>\n",
       "      <th>TUE</th>\n",
       "      <th>CALC</th>\n",
       "      <th>MTRANS</th>\n",
       "      <th>NObeyesdad</th>\n",
       "    </tr>\n",
       "  </thead>\n",
       "  <tbody>\n",
       "    <tr>\n",
       "      <th>0</th>\n",
       "      <td>Female</td>\n",
       "      <td>21.0</td>\n",
       "      <td>1.62</td>\n",
       "      <td>64.0</td>\n",
       "      <td>yes</td>\n",
       "      <td>no</td>\n",
       "      <td>2.0</td>\n",
       "      <td>3.0</td>\n",
       "      <td>Sometimes</td>\n",
       "      <td>no</td>\n",
       "      <td>2.0</td>\n",
       "      <td>no</td>\n",
       "      <td>0.0</td>\n",
       "      <td>1.0</td>\n",
       "      <td>no</td>\n",
       "      <td>Public_Transportation</td>\n",
       "      <td>Normal_Weight</td>\n",
       "    </tr>\n",
       "    <tr>\n",
       "      <th>1</th>\n",
       "      <td>Female</td>\n",
       "      <td>21.0</td>\n",
       "      <td>1.52</td>\n",
       "      <td>56.0</td>\n",
       "      <td>yes</td>\n",
       "      <td>no</td>\n",
       "      <td>3.0</td>\n",
       "      <td>3.0</td>\n",
       "      <td>Sometimes</td>\n",
       "      <td>yes</td>\n",
       "      <td>3.0</td>\n",
       "      <td>yes</td>\n",
       "      <td>3.0</td>\n",
       "      <td>0.0</td>\n",
       "      <td>Sometimes</td>\n",
       "      <td>Public_Transportation</td>\n",
       "      <td>Normal_Weight</td>\n",
       "    </tr>\n",
       "    <tr>\n",
       "      <th>2</th>\n",
       "      <td>Male</td>\n",
       "      <td>23.0</td>\n",
       "      <td>1.80</td>\n",
       "      <td>77.0</td>\n",
       "      <td>yes</td>\n",
       "      <td>no</td>\n",
       "      <td>2.0</td>\n",
       "      <td>3.0</td>\n",
       "      <td>Sometimes</td>\n",
       "      <td>no</td>\n",
       "      <td>2.0</td>\n",
       "      <td>no</td>\n",
       "      <td>2.0</td>\n",
       "      <td>1.0</td>\n",
       "      <td>Frequently</td>\n",
       "      <td>Public_Transportation</td>\n",
       "      <td>Normal_Weight</td>\n",
       "    </tr>\n",
       "    <tr>\n",
       "      <th>3</th>\n",
       "      <td>Male</td>\n",
       "      <td>27.0</td>\n",
       "      <td>1.80</td>\n",
       "      <td>87.0</td>\n",
       "      <td>no</td>\n",
       "      <td>no</td>\n",
       "      <td>3.0</td>\n",
       "      <td>3.0</td>\n",
       "      <td>Sometimes</td>\n",
       "      <td>no</td>\n",
       "      <td>2.0</td>\n",
       "      <td>no</td>\n",
       "      <td>2.0</td>\n",
       "      <td>0.0</td>\n",
       "      <td>Frequently</td>\n",
       "      <td>Walking</td>\n",
       "      <td>Overweight_Level_I</td>\n",
       "    </tr>\n",
       "    <tr>\n",
       "      <th>4</th>\n",
       "      <td>Male</td>\n",
       "      <td>22.0</td>\n",
       "      <td>1.78</td>\n",
       "      <td>89.8</td>\n",
       "      <td>no</td>\n",
       "      <td>no</td>\n",
       "      <td>2.0</td>\n",
       "      <td>1.0</td>\n",
       "      <td>Sometimes</td>\n",
       "      <td>no</td>\n",
       "      <td>2.0</td>\n",
       "      <td>no</td>\n",
       "      <td>0.0</td>\n",
       "      <td>0.0</td>\n",
       "      <td>Sometimes</td>\n",
       "      <td>Public_Transportation</td>\n",
       "      <td>Overweight_Level_II</td>\n",
       "    </tr>\n",
       "  </tbody>\n",
       "</table>\n",
       "</div>"
      ],
      "text/plain": [
       "   Gender   Age  Height  Weight family_history_with_overweight FAVC  FCVC  \\\n",
       "0  Female  21.0    1.62    64.0                            yes   no   2.0   \n",
       "1  Female  21.0    1.52    56.0                            yes   no   3.0   \n",
       "2    Male  23.0    1.80    77.0                            yes   no   2.0   \n",
       "3    Male  27.0    1.80    87.0                             no   no   3.0   \n",
       "4    Male  22.0    1.78    89.8                             no   no   2.0   \n",
       "\n",
       "   NCP       CAEC SMOKE  CH2O  SCC  FAF  TUE        CALC  \\\n",
       "0  3.0  Sometimes    no   2.0   no  0.0  1.0          no   \n",
       "1  3.0  Sometimes   yes   3.0  yes  3.0  0.0   Sometimes   \n",
       "2  3.0  Sometimes    no   2.0   no  2.0  1.0  Frequently   \n",
       "3  3.0  Sometimes    no   2.0   no  2.0  0.0  Frequently   \n",
       "4  1.0  Sometimes    no   2.0   no  0.0  0.0   Sometimes   \n",
       "\n",
       "                  MTRANS           NObeyesdad  \n",
       "0  Public_Transportation        Normal_Weight  \n",
       "1  Public_Transportation        Normal_Weight  \n",
       "2  Public_Transportation        Normal_Weight  \n",
       "3                Walking   Overweight_Level_I  \n",
       "4  Public_Transportation  Overweight_Level_II  "
      ]
     },
     "execution_count": 670,
     "metadata": {},
     "output_type": "execute_result"
    }
   ],
   "source": [
    "print(obesity.shape)\n",
    "obesity.head()"
   ]
  },
  {
   "cell_type": "markdown",
   "metadata": {},
   "source": [
    "## Data Mungling and Cleaning"
   ]
  },
  {
   "cell_type": "code",
   "execution_count": 671,
   "metadata": {},
   "outputs": [
    {
     "data": {
      "text/plain": [
       "Gender                            0\n",
       "Age                               0\n",
       "Height                            0\n",
       "Weight                            0\n",
       "family_history_with_overweight    0\n",
       "FAVC                              0\n",
       "FCVC                              0\n",
       "NCP                               0\n",
       "CAEC                              0\n",
       "SMOKE                             0\n",
       "CH2O                              0\n",
       "SCC                               0\n",
       "FAF                               0\n",
       "TUE                               0\n",
       "CALC                              0\n",
       "MTRANS                            0\n",
       "NObeyesdad                        0\n",
       "dtype: int64"
      ]
     },
     "execution_count": 671,
     "metadata": {},
     "output_type": "execute_result"
    }
   ],
   "source": [
    "obesity.isnull().sum(axis=0)"
   ]
  },
  {
   "cell_type": "code",
   "execution_count": 672,
   "metadata": {},
   "outputs": [
    {
     "data": {
      "text/plain": [
       "NObeyesdad\n",
       "Obesity_Type_I         0.166272\n",
       "Obesity_Type_III       0.153482\n",
       "Obesity_Type_II        0.140692\n",
       "Overweight_Level_I     0.137376\n",
       "Overweight_Level_II    0.137376\n",
       "Normal_Weight          0.135955\n",
       "Insufficient_Weight    0.128849\n",
       "Name: proportion, dtype: float64"
      ]
     },
     "execution_count": 672,
     "metadata": {},
     "output_type": "execute_result"
    }
   ],
   "source": [
    "obesity['NObeyesdad'].value_counts(normalize=True)"
   ]
  },
  {
   "cell_type": "markdown",
   "metadata": {},
   "source": [
    "## Fit Naive Bayes on training model and predict on testing model"
   ]
  },
  {
   "cell_type": "code",
   "execution_count": 673,
   "metadata": {},
   "outputs": [
    {
     "name": "stdout",
     "output_type": "stream",
     "text": [
      "(1689, 17)\n",
      "(422, 17)\n"
     ]
    }
   ],
   "source": [
    "np.random.seed(123)\n",
    "obesity_randomized = obesity.sample(frac=1)\n",
    "\n",
    "train_size = round(len(obesity_randomized) * 0.8)\n",
    "training_set = obesity_randomized[:train_size].reset_index(drop=True)\n",
    "testing_set = obesity_randomized[train_size:].reset_index(drop=True)\n",
    "\n",
    "print(training_set.shape)\n",
    "print(testing_set.shape)"
   ]
  },
  {
   "cell_type": "code",
   "execution_count": 674,
   "metadata": {},
   "outputs": [
    {
     "name": "stdout",
     "output_type": "stream",
     "text": [
      "<class 'pandas.core.frame.DataFrame'>\n"
     ]
    },
    {
     "data": {
      "text/html": [
       "<div>\n",
       "<style scoped>\n",
       "    .dataframe tbody tr th:only-of-type {\n",
       "        vertical-align: middle;\n",
       "    }\n",
       "\n",
       "    .dataframe tbody tr th {\n",
       "        vertical-align: top;\n",
       "    }\n",
       "\n",
       "    .dataframe thead th {\n",
       "        text-align: right;\n",
       "    }\n",
       "</style>\n",
       "<table border=\"1\" class=\"dataframe\">\n",
       "  <thead>\n",
       "    <tr style=\"text-align: right;\">\n",
       "      <th></th>\n",
       "      <th>Gender</th>\n",
       "      <th>Age</th>\n",
       "      <th>Height</th>\n",
       "      <th>Weight</th>\n",
       "      <th>family_history_with_overweight</th>\n",
       "      <th>FAVC</th>\n",
       "      <th>FCVC</th>\n",
       "      <th>NCP</th>\n",
       "      <th>CAEC</th>\n",
       "      <th>SMOKE</th>\n",
       "      <th>CH2O</th>\n",
       "      <th>SCC</th>\n",
       "      <th>FAF</th>\n",
       "      <th>TUE</th>\n",
       "      <th>CALC</th>\n",
       "      <th>MTRANS</th>\n",
       "      <th>NObeyesdad</th>\n",
       "    </tr>\n",
       "  </thead>\n",
       "  <tbody>\n",
       "    <tr>\n",
       "      <th>0</th>\n",
       "      <td>Female</td>\n",
       "      <td>19.010211</td>\n",
       "      <td>1.555431</td>\n",
       "      <td>44.188767</td>\n",
       "      <td>no</td>\n",
       "      <td>no</td>\n",
       "      <td>2.724285</td>\n",
       "      <td>3.000000</td>\n",
       "      <td>Frequently</td>\n",
       "      <td>no</td>\n",
       "      <td>1.000000</td>\n",
       "      <td>yes</td>\n",
       "      <td>1.070331</td>\n",
       "      <td>0.000000</td>\n",
       "      <td>Sometimes</td>\n",
       "      <td>Public_Transportation</td>\n",
       "      <td>Insufficient_Weight</td>\n",
       "    </tr>\n",
       "    <tr>\n",
       "      <th>1</th>\n",
       "      <td>Female</td>\n",
       "      <td>25.783865</td>\n",
       "      <td>1.643111</td>\n",
       "      <td>109.910012</td>\n",
       "      <td>yes</td>\n",
       "      <td>yes</td>\n",
       "      <td>3.000000</td>\n",
       "      <td>3.000000</td>\n",
       "      <td>Sometimes</td>\n",
       "      <td>no</td>\n",
       "      <td>1.530992</td>\n",
       "      <td>no</td>\n",
       "      <td>0.015860</td>\n",
       "      <td>0.445495</td>\n",
       "      <td>Sometimes</td>\n",
       "      <td>Public_Transportation</td>\n",
       "      <td>Obesity_Type_III</td>\n",
       "    </tr>\n",
       "    <tr>\n",
       "      <th>2</th>\n",
       "      <td>Male</td>\n",
       "      <td>25.509034</td>\n",
       "      <td>1.772190</td>\n",
       "      <td>114.097656</td>\n",
       "      <td>yes</td>\n",
       "      <td>yes</td>\n",
       "      <td>2.193310</td>\n",
       "      <td>3.000000</td>\n",
       "      <td>Sometimes</td>\n",
       "      <td>no</td>\n",
       "      <td>2.089983</td>\n",
       "      <td>no</td>\n",
       "      <td>1.360994</td>\n",
       "      <td>0.857438</td>\n",
       "      <td>Sometimes</td>\n",
       "      <td>Public_Transportation</td>\n",
       "      <td>Obesity_Type_II</td>\n",
       "    </tr>\n",
       "    <tr>\n",
       "      <th>3</th>\n",
       "      <td>Female</td>\n",
       "      <td>33.690239</td>\n",
       "      <td>1.681842</td>\n",
       "      <td>77.426465</td>\n",
       "      <td>yes</td>\n",
       "      <td>yes</td>\n",
       "      <td>3.000000</td>\n",
       "      <td>2.679724</td>\n",
       "      <td>Sometimes</td>\n",
       "      <td>no</td>\n",
       "      <td>1.999737</td>\n",
       "      <td>no</td>\n",
       "      <td>1.747347</td>\n",
       "      <td>0.681773</td>\n",
       "      <td>no</td>\n",
       "      <td>Automobile</td>\n",
       "      <td>Overweight_Level_II</td>\n",
       "    </tr>\n",
       "    <tr>\n",
       "      <th>4</th>\n",
       "      <td>Male</td>\n",
       "      <td>24.186273</td>\n",
       "      <td>1.794827</td>\n",
       "      <td>120.919703</td>\n",
       "      <td>yes</td>\n",
       "      <td>yes</td>\n",
       "      <td>2.611847</td>\n",
       "      <td>2.749334</td>\n",
       "      <td>Sometimes</td>\n",
       "      <td>no</td>\n",
       "      <td>2.364849</td>\n",
       "      <td>no</td>\n",
       "      <td>1.141708</td>\n",
       "      <td>0.063005</td>\n",
       "      <td>Sometimes</td>\n",
       "      <td>Public_Transportation</td>\n",
       "      <td>Obesity_Type_II</td>\n",
       "    </tr>\n",
       "  </tbody>\n",
       "</table>\n",
       "</div>"
      ],
      "text/plain": [
       "   Gender        Age    Height      Weight family_history_with_overweight  \\\n",
       "0  Female  19.010211  1.555431   44.188767                             no   \n",
       "1  Female  25.783865  1.643111  109.910012                            yes   \n",
       "2    Male  25.509034  1.772190  114.097656                            yes   \n",
       "3  Female  33.690239  1.681842   77.426465                            yes   \n",
       "4    Male  24.186273  1.794827  120.919703                            yes   \n",
       "\n",
       "  FAVC      FCVC       NCP        CAEC SMOKE      CH2O  SCC       FAF  \\\n",
       "0   no  2.724285  3.000000  Frequently    no  1.000000  yes  1.070331   \n",
       "1  yes  3.000000  3.000000   Sometimes    no  1.530992   no  0.015860   \n",
       "2  yes  2.193310  3.000000   Sometimes    no  2.089983   no  1.360994   \n",
       "3  yes  3.000000  2.679724   Sometimes    no  1.999737   no  1.747347   \n",
       "4  yes  2.611847  2.749334   Sometimes    no  2.364849   no  1.141708   \n",
       "\n",
       "        TUE       CALC                 MTRANS           NObeyesdad  \n",
       "0  0.000000  Sometimes  Public_Transportation  Insufficient_Weight  \n",
       "1  0.445495  Sometimes  Public_Transportation     Obesity_Type_III  \n",
       "2  0.857438  Sometimes  Public_Transportation      Obesity_Type_II  \n",
       "3  0.681773         no             Automobile  Overweight_Level_II  \n",
       "4  0.063005  Sometimes  Public_Transportation      Obesity_Type_II  "
      ]
     },
     "execution_count": 674,
     "metadata": {},
     "output_type": "execute_result"
    }
   ],
   "source": [
    "print(type(training_set))\n",
    "training_set.head()"
   ]
  },
  {
   "cell_type": "code",
   "execution_count": 675,
   "metadata": {},
   "outputs": [
    {
     "data": {
      "text/plain": [
       "NObeyesdad\n",
       "Obesity_Type_I         0.165187\n",
       "Obesity_Type_III       0.158674\n",
       "Obesity_Type_II        0.141504\n",
       "Overweight_Level_II    0.139728\n",
       "Normal_Weight          0.133215\n",
       "Overweight_Level_I     0.132623\n",
       "Insufficient_Weight    0.129070\n",
       "Name: proportion, dtype: float64"
      ]
     },
     "execution_count": 675,
     "metadata": {},
     "output_type": "execute_result"
    }
   ],
   "source": [
    "training_set['NObeyesdad'].value_counts(normalize=True)"
   ]
  },
  {
   "cell_type": "code",
   "execution_count": 676,
   "metadata": {},
   "outputs": [
    {
     "data": {
      "text/plain": [
       "NObeyesdad\n",
       "Obesity_Type_I         0.170616\n",
       "Overweight_Level_I     0.156398\n",
       "Normal_Weight          0.146919\n",
       "Obesity_Type_II        0.137441\n",
       "Obesity_Type_III       0.132701\n",
       "Insufficient_Weight    0.127962\n",
       "Overweight_Level_II    0.127962\n",
       "Name: proportion, dtype: float64"
      ]
     },
     "execution_count": 676,
     "metadata": {},
     "output_type": "execute_result"
    }
   ],
   "source": [
    "testing_set['NObeyesdad'].value_counts(normalize=True)"
   ]
  },
  {
   "cell_type": "markdown",
   "metadata": {},
   "source": [
    "## Creating Naive Bayes Model"
   ]
  },
  {
   "cell_type": "code",
   "execution_count": 677,
   "metadata": {},
   "outputs": [
    {
     "name": "stdout",
     "output_type": "stream",
     "text": [
      "   Gender        Age    Height      Weight family_history_with_overweight  \\\n",
      "0  Female  19.010211  1.555431   44.188767                             no   \n",
      "1  Female  25.783865  1.643111  109.910012                            yes   \n",
      "2    Male  25.509034  1.772190  114.097656                            yes   \n",
      "3  Female  33.690239  1.681842   77.426465                            yes   \n",
      "4    Male  24.186273  1.794827  120.919703                            yes   \n",
      "\n",
      "  FAVC      FCVC       NCP        CAEC SMOKE      CH2O  SCC       FAF  \\\n",
      "0   no  2.724285  3.000000  Frequently    no  1.000000  yes  1.070331   \n",
      "1  yes  3.000000  3.000000   Sometimes    no  1.530992   no  0.015860   \n",
      "2  yes  2.193310  3.000000   Sometimes    no  2.089983   no  1.360994   \n",
      "3  yes  3.000000  2.679724   Sometimes    no  1.999737   no  1.747347   \n",
      "4  yes  2.611847  2.749334   Sometimes    no  2.364849   no  1.141708   \n",
      "\n",
      "        TUE       CALC                 MTRANS  \n",
      "0  0.000000  Sometimes  Public_Transportation  \n",
      "1  0.445495  Sometimes  Public_Transportation  \n",
      "2  0.857438  Sometimes  Public_Transportation  \n",
      "3  0.681773         no             Automobile  \n",
      "4  0.063005  Sometimes  Public_Transportation  \n",
      "   Gender        Age    Height      Weight family_history_with_overweight  \\\n",
      "0  Female  19.010211  1.555431   44.188767                             no   \n",
      "1  Female  25.783865  1.643111  109.910012                            yes   \n",
      "2    Male  25.509034  1.772190  114.097656                            yes   \n",
      "3  Female  33.690239  1.681842   77.426465                            yes   \n",
      "4    Male  24.186273  1.794827  120.919703                            yes   \n",
      "\n",
      "  FAVC      FCVC       NCP        CAEC SMOKE      CH2O  SCC       TUE  \\\n",
      "0   no  2.724285  3.000000  Frequently    no  1.000000  yes  0.000000   \n",
      "1  yes  3.000000  3.000000   Sometimes    no  1.530992   no  0.445495   \n",
      "2  yes  2.193310  3.000000   Sometimes    no  2.089983   no  0.857438   \n",
      "3  yes  3.000000  2.679724   Sometimes    no  1.999737   no  0.681773   \n",
      "4  yes  2.611847  2.749334   Sometimes    no  2.364849   no  0.063005   \n",
      "\n",
      "                  MTRANS  \n",
      "0  Public_Transportation  \n",
      "1  Public_Transportation  \n",
      "2  Public_Transportation  \n",
      "3             Automobile  \n",
      "4  Public_Transportation  \n",
      "0    Insufficient_Weight\n",
      "1       Obesity_Type_III\n",
      "2        Obesity_Type_II\n",
      "3    Overweight_Level_II\n",
      "4        Obesity_Type_II\n",
      "Name: NObeyesdad, dtype: object\n"
     ]
    }
   ],
   "source": [
    "feature_ls = [0 ,1, 2, 3, 4, 5, 6, 7, 8, 9, 10, 11, 13, 15] #specify indices of features you wanted to include here\n",
    "\n",
    "trainX_prior = training_set.iloc[:, :-1]\n",
    "\n",
    "trainX = training_set.iloc[:, feature_ls]\n",
    "trainy = training_set['NObeyesdad']\n",
    "\n",
    "colnames = trainX.columns\n",
    "col_names = trainX_prior.columns\n",
    "\n",
    "print(trainX_prior.head())\n",
    "print(trainX.head())\n",
    "print(trainy.head())\n"
   ]
  },
  {
   "cell_type": "code",
   "execution_count": 678,
   "metadata": {},
   "outputs": [
    {
     "name": "stdout",
     "output_type": "stream",
     "text": [
      "   Gender        Age    Height      Weight family_history_with_overweight  \\\n",
      "0  Female  18.947102  1.518917   60.267427                             no   \n",
      "1  Female  18.000000  1.670058   86.242679                            yes   \n",
      "2    Male  26.271621  1.660955   90.000000                            yes   \n",
      "3    Male  18.000000  1.820930  108.742005                            yes   \n",
      "4  Female  22.667596  1.718939   75.951472                            yes   \n",
      "\n",
      "  FAVC      FCVC       NCP        CAEC SMOKE      CH2O  SCC       FAF  \\\n",
      "0  yes  2.838037  2.737571   Sometimes    no  1.144467  yes  0.753782   \n",
      "1  yes  2.609123  3.000000   Sometimes    no  1.955053   no  1.186013   \n",
      "2  yes  2.000000  3.000000   Sometimes    no  3.000000   no  0.669278   \n",
      "3  yes  2.000000  1.255350   Sometimes    no  2.497065   no  1.000000   \n",
      "4  yes  2.000000  3.000000  Frequently    no  2.000000   no  0.000000   \n",
      "\n",
      "        TUE       CALC                 MTRANS  \n",
      "0  1.286844  Sometimes  Public_Transportation  \n",
      "1  0.000000         no  Public_Transportation  \n",
      "2  0.505266  Sometimes             Automobile  \n",
      "3  1.441605         no  Public_Transportation  \n",
      "4  2.000000  Sometimes  Public_Transportation  \n",
      "   Gender        Age    Height      Weight family_history_with_overweight  \\\n",
      "0  Female  18.947102  1.518917   60.267427                             no   \n",
      "1  Female  18.000000  1.670058   86.242679                            yes   \n",
      "2    Male  26.271621  1.660955   90.000000                            yes   \n",
      "3    Male  18.000000  1.820930  108.742005                            yes   \n",
      "4  Female  22.667596  1.718939   75.951472                            yes   \n",
      "\n",
      "  FAVC      FCVC       NCP        CAEC SMOKE      CH2O  SCC       TUE  \\\n",
      "0  yes  2.838037  2.737571   Sometimes    no  1.144467  yes  1.286844   \n",
      "1  yes  2.609123  3.000000   Sometimes    no  1.955053   no  0.000000   \n",
      "2  yes  2.000000  3.000000   Sometimes    no  3.000000   no  0.505266   \n",
      "3  yes  2.000000  1.255350   Sometimes    no  2.497065   no  1.441605   \n",
      "4  yes  2.000000  3.000000  Frequently    no  2.000000   no  2.000000   \n",
      "\n",
      "                  MTRANS  \n",
      "0  Public_Transportation  \n",
      "1  Public_Transportation  \n",
      "2             Automobile  \n",
      "3  Public_Transportation  \n",
      "4  Public_Transportation  \n",
      "0    Overweight_Level_I\n",
      "1        Obesity_Type_I\n",
      "2        Obesity_Type_I\n",
      "3        Obesity_Type_I\n",
      "4    Overweight_Level_I\n",
      "Name: NObeyesdad, dtype: object\n"
     ]
    }
   ],
   "source": [
    "testX_prior = testing_set.iloc[:, :-1]\n",
    "testX = testing_set.iloc[:,feature_ls]\n",
    "testy = testing_set['NObeyesdad']\n",
    "\n",
    "print(testX_prior.head())\n",
    "print(testX.head())\n",
    "print(testy.head())"
   ]
  },
  {
   "cell_type": "code",
   "execution_count": 679,
   "metadata": {},
   "outputs": [
    {
     "data": {
      "text/html": [
       "<div>\n",
       "<style scoped>\n",
       "    .dataframe tbody tr th:only-of-type {\n",
       "        vertical-align: middle;\n",
       "    }\n",
       "\n",
       "    .dataframe tbody tr th {\n",
       "        vertical-align: top;\n",
       "    }\n",
       "\n",
       "    .dataframe thead th {\n",
       "        text-align: right;\n",
       "    }\n",
       "</style>\n",
       "<table border=\"1\" class=\"dataframe\">\n",
       "  <thead>\n",
       "    <tr style=\"text-align: right;\">\n",
       "      <th></th>\n",
       "      <th>Gender</th>\n",
       "      <th>Age</th>\n",
       "      <th>Height</th>\n",
       "      <th>Weight</th>\n",
       "      <th>family_history_with_overweight</th>\n",
       "      <th>FAVC</th>\n",
       "      <th>FCVC</th>\n",
       "      <th>NCP</th>\n",
       "      <th>CAEC</th>\n",
       "      <th>SMOKE</th>\n",
       "      <th>CH2O</th>\n",
       "      <th>SCC</th>\n",
       "      <th>FAF</th>\n",
       "      <th>TUE</th>\n",
       "      <th>CALC</th>\n",
       "      <th>MTRANS</th>\n",
       "      <th>NObeyesdad</th>\n",
       "    </tr>\n",
       "  </thead>\n",
       "  <tbody>\n",
       "    <tr>\n",
       "      <th>0</th>\n",
       "      <td>Female</td>\n",
       "      <td>18.947102</td>\n",
       "      <td>1.518917</td>\n",
       "      <td>60.267427</td>\n",
       "      <td>no</td>\n",
       "      <td>yes</td>\n",
       "      <td>2.838037</td>\n",
       "      <td>2.737571</td>\n",
       "      <td>Sometimes</td>\n",
       "      <td>no</td>\n",
       "      <td>1.144467</td>\n",
       "      <td>yes</td>\n",
       "      <td>0.753782</td>\n",
       "      <td>1.286844</td>\n",
       "      <td>Sometimes</td>\n",
       "      <td>Public_Transportation</td>\n",
       "      <td>Overweight_Level_I</td>\n",
       "    </tr>\n",
       "    <tr>\n",
       "      <th>1</th>\n",
       "      <td>Female</td>\n",
       "      <td>18.000000</td>\n",
       "      <td>1.670058</td>\n",
       "      <td>86.242679</td>\n",
       "      <td>yes</td>\n",
       "      <td>yes</td>\n",
       "      <td>2.609123</td>\n",
       "      <td>3.000000</td>\n",
       "      <td>Sometimes</td>\n",
       "      <td>no</td>\n",
       "      <td>1.955053</td>\n",
       "      <td>no</td>\n",
       "      <td>1.186013</td>\n",
       "      <td>0.000000</td>\n",
       "      <td>no</td>\n",
       "      <td>Public_Transportation</td>\n",
       "      <td>Obesity_Type_I</td>\n",
       "    </tr>\n",
       "    <tr>\n",
       "      <th>2</th>\n",
       "      <td>Male</td>\n",
       "      <td>26.271621</td>\n",
       "      <td>1.660955</td>\n",
       "      <td>90.000000</td>\n",
       "      <td>yes</td>\n",
       "      <td>yes</td>\n",
       "      <td>2.000000</td>\n",
       "      <td>3.000000</td>\n",
       "      <td>Sometimes</td>\n",
       "      <td>no</td>\n",
       "      <td>3.000000</td>\n",
       "      <td>no</td>\n",
       "      <td>0.669278</td>\n",
       "      <td>0.505266</td>\n",
       "      <td>Sometimes</td>\n",
       "      <td>Automobile</td>\n",
       "      <td>Obesity_Type_I</td>\n",
       "    </tr>\n",
       "    <tr>\n",
       "      <th>3</th>\n",
       "      <td>Male</td>\n",
       "      <td>18.000000</td>\n",
       "      <td>1.820930</td>\n",
       "      <td>108.742005</td>\n",
       "      <td>yes</td>\n",
       "      <td>yes</td>\n",
       "      <td>2.000000</td>\n",
       "      <td>1.255350</td>\n",
       "      <td>Sometimes</td>\n",
       "      <td>no</td>\n",
       "      <td>2.497065</td>\n",
       "      <td>no</td>\n",
       "      <td>1.000000</td>\n",
       "      <td>1.441605</td>\n",
       "      <td>no</td>\n",
       "      <td>Public_Transportation</td>\n",
       "      <td>Obesity_Type_I</td>\n",
       "    </tr>\n",
       "    <tr>\n",
       "      <th>4</th>\n",
       "      <td>Female</td>\n",
       "      <td>22.667596</td>\n",
       "      <td>1.718939</td>\n",
       "      <td>75.951472</td>\n",
       "      <td>yes</td>\n",
       "      <td>yes</td>\n",
       "      <td>2.000000</td>\n",
       "      <td>3.000000</td>\n",
       "      <td>Frequently</td>\n",
       "      <td>no</td>\n",
       "      <td>2.000000</td>\n",
       "      <td>no</td>\n",
       "      <td>0.000000</td>\n",
       "      <td>2.000000</td>\n",
       "      <td>Sometimes</td>\n",
       "      <td>Public_Transportation</td>\n",
       "      <td>Overweight_Level_I</td>\n",
       "    </tr>\n",
       "  </tbody>\n",
       "</table>\n",
       "</div>"
      ],
      "text/plain": [
       "   Gender        Age    Height      Weight family_history_with_overweight  \\\n",
       "0  Female  18.947102  1.518917   60.267427                             no   \n",
       "1  Female  18.000000  1.670058   86.242679                            yes   \n",
       "2    Male  26.271621  1.660955   90.000000                            yes   \n",
       "3    Male  18.000000  1.820930  108.742005                            yes   \n",
       "4  Female  22.667596  1.718939   75.951472                            yes   \n",
       "\n",
       "  FAVC      FCVC       NCP        CAEC SMOKE      CH2O  SCC       FAF  \\\n",
       "0  yes  2.838037  2.737571   Sometimes    no  1.144467  yes  0.753782   \n",
       "1  yes  2.609123  3.000000   Sometimes    no  1.955053   no  1.186013   \n",
       "2  yes  2.000000  3.000000   Sometimes    no  3.000000   no  0.669278   \n",
       "3  yes  2.000000  1.255350   Sometimes    no  2.497065   no  1.000000   \n",
       "4  yes  2.000000  3.000000  Frequently    no  2.000000   no  0.000000   \n",
       "\n",
       "        TUE       CALC                 MTRANS          NObeyesdad  \n",
       "0  1.286844  Sometimes  Public_Transportation  Overweight_Level_I  \n",
       "1  0.000000         no  Public_Transportation      Obesity_Type_I  \n",
       "2  0.505266  Sometimes             Automobile      Obesity_Type_I  \n",
       "3  1.441605         no  Public_Transportation      Obesity_Type_I  \n",
       "4  2.000000  Sometimes  Public_Transportation  Overweight_Level_I  "
      ]
     },
     "execution_count": 679,
     "metadata": {},
     "output_type": "execute_result"
    }
   ],
   "source": [
    "testing_set.head()"
   ]
  },
  {
   "cell_type": "markdown",
   "metadata": {},
   "source": [
    "## Encoding and training"
   ]
  },
  {
   "cell_type": "code",
   "execution_count": 680,
   "metadata": {},
   "outputs": [
    {
     "data": {
      "text/plain": [
       "array([5, 2, 2, 2, 5, 2, 2, 1, 5, 0])"
      ]
     },
     "execution_count": 680,
     "metadata": {},
     "output_type": "execute_result"
    }
   ],
   "source": [
    "le = LabelEncoder()\n",
    "\n",
    "trainMultinli = le.fit_transform(trainy)\n",
    "trainMultinli[:10]\n",
    "\n",
    "testMultinli = le.fit_transform(testy)\n",
    "testMultinli[:10]"
   ]
  },
  {
   "cell_type": "code",
   "execution_count": 681,
   "metadata": {},
   "outputs": [],
   "source": [
    "enc = OrdinalEncoder()\n",
    "\n",
    "trainX = enc.fit_transform(trainX)\n",
    "trainX = pd.DataFrame(trainX, columns=colnames)\n",
    "\n",
    "testX = enc.fit_transform(testX)\n",
    "testX = pd.DataFrame(testX, columns=colnames)\n",
    "\n",
    "trainX_prior = enc.fit_transform(trainX_prior)\n",
    "trainX_prior = pd.DataFrame(trainX_prior, columns=col_names)\n",
    "\n",
    "testX_prior = enc.fit_transform(testX_prior)\n",
    "testX_prior = pd.DataFrame(testX_prior, columns=col_names)\n"
   ]
  },
  {
   "cell_type": "code",
   "execution_count": 682,
   "metadata": {},
   "outputs": [
    {
     "name": "stdout",
     "output_type": "stream",
     "text": [
      "[0.02, 0.04, 0.06, 0.08, 0.1, 0.12, 0.14, 0.16, 0.18, 0.2, 0.22, 0.24, 0.26, 0.28, 0.3, 0.32, 0.34, 0.36, 0.38, 0.4, 0.42, 0.44, 0.46, 0.48, 0.5, 0.52, 0.54, 0.56, 0.58, 0.6, 0.62, 0.64, 0.66, 0.68, 0.7000000000000001, 0.72, 0.74, 0.76, 0.78, 0.8, 0.8200000000000001, 0.84, 0.86, 0.88, 0.9, 0.92, 0.9400000000000001, 0.96, 0.98, 1.0, 1.02, 1.04, 1.06, 1.08, 1.1, 1.12, 1.1400000000000001, 1.16, 1.18, 1.2, 1.22, 1.24, 1.26, 1.28, 1.3, 1.32, 1.34, 1.36, 1.3800000000000001, 1.4000000000000001, 1.42, 1.44, 1.46, 1.48, 1.5, 1.52, 1.54, 1.56, 1.58, 1.6, 1.62, 1.6400000000000001, 1.6600000000000001, 1.68, 1.7, 1.72, 1.74, 1.76, 1.78, 1.8, 1.82, 1.84, 1.86, 1.8800000000000001, 1.9000000000000001, 1.92, 1.94, 1.96, 1.98]\n"
     ]
    }
   ],
   "source": [
    "print([.02*i for i in range(1,100)])"
   ]
  },
  {
   "cell_type": "code",
   "execution_count": 683,
   "metadata": {},
   "outputs": [
    {
     "name": "stderr",
     "output_type": "stream",
     "text": [
      "c:\\Users\\ASUS\\anaconda3\\Lib\\site-packages\\sklearn\\naive_bayes.py:624: FutureWarning: The default value for `force_alpha` will change to `True` in 1.4. To suppress this warning, manually set the value of `force_alpha`.\n",
      "  warnings.warn(\n",
      "c:\\Users\\ASUS\\anaconda3\\Lib\\site-packages\\sklearn\\naive_bayes.py:633: UserWarning: alpha too small will result in numeric errors, setting alpha = 1.0e-10. Use `force_alpha=True` to keep alpha unchanged.\n",
      "  warnings.warn(\n"
     ]
    },
    {
     "name": "stdout",
     "output_type": "stream",
     "text": [
      "98 4.9\n",
      "0.518957345971564\n"
     ]
    }
   ],
   "source": [
    "acc = []\n",
    "for al in [.05*i for i in range(0,100)]:\n",
    "    model = CategoricalNB(alpha=al)\n",
    "    model.fit(trainX, trainMultinli)\n",
    "    yhattest = model.predict(testX)\n",
    "    acc.append(accuracy_score(testMultinli, yhattest))\n",
    "max_index = acc.index(max(acc))\n",
    "best_al = .05*max_index\n",
    "print(max_index, best_al)\n",
    "print(acc[max_index])"
   ]
  },
  {
   "cell_type": "code",
   "execution_count": 684,
   "metadata": {},
   "outputs": [
    {
     "data": {
      "text/html": [
       "<style>#sk-container-id-21 {color: black;}#sk-container-id-21 pre{padding: 0;}#sk-container-id-21 div.sk-toggleable {background-color: white;}#sk-container-id-21 label.sk-toggleable__label {cursor: pointer;display: block;width: 100%;margin-bottom: 0;padding: 0.3em;box-sizing: border-box;text-align: center;}#sk-container-id-21 label.sk-toggleable__label-arrow:before {content: \"▸\";float: left;margin-right: 0.25em;color: #696969;}#sk-container-id-21 label.sk-toggleable__label-arrow:hover:before {color: black;}#sk-container-id-21 div.sk-estimator:hover label.sk-toggleable__label-arrow:before {color: black;}#sk-container-id-21 div.sk-toggleable__content {max-height: 0;max-width: 0;overflow: hidden;text-align: left;background-color: #f0f8ff;}#sk-container-id-21 div.sk-toggleable__content pre {margin: 0.2em;color: black;border-radius: 0.25em;background-color: #f0f8ff;}#sk-container-id-21 input.sk-toggleable__control:checked~div.sk-toggleable__content {max-height: 200px;max-width: 100%;overflow: auto;}#sk-container-id-21 input.sk-toggleable__control:checked~label.sk-toggleable__label-arrow:before {content: \"▾\";}#sk-container-id-21 div.sk-estimator input.sk-toggleable__control:checked~label.sk-toggleable__label {background-color: #d4ebff;}#sk-container-id-21 div.sk-label input.sk-toggleable__control:checked~label.sk-toggleable__label {background-color: #d4ebff;}#sk-container-id-21 input.sk-hidden--visually {border: 0;clip: rect(1px 1px 1px 1px);clip: rect(1px, 1px, 1px, 1px);height: 1px;margin: -1px;overflow: hidden;padding: 0;position: absolute;width: 1px;}#sk-container-id-21 div.sk-estimator {font-family: monospace;background-color: #f0f8ff;border: 1px dotted black;border-radius: 0.25em;box-sizing: border-box;margin-bottom: 0.5em;}#sk-container-id-21 div.sk-estimator:hover {background-color: #d4ebff;}#sk-container-id-21 div.sk-parallel-item::after {content: \"\";width: 100%;border-bottom: 1px solid gray;flex-grow: 1;}#sk-container-id-21 div.sk-label:hover label.sk-toggleable__label {background-color: #d4ebff;}#sk-container-id-21 div.sk-serial::before {content: \"\";position: absolute;border-left: 1px solid gray;box-sizing: border-box;top: 0;bottom: 0;left: 50%;z-index: 0;}#sk-container-id-21 div.sk-serial {display: flex;flex-direction: column;align-items: center;background-color: white;padding-right: 0.2em;padding-left: 0.2em;position: relative;}#sk-container-id-21 div.sk-item {position: relative;z-index: 1;}#sk-container-id-21 div.sk-parallel {display: flex;align-items: stretch;justify-content: center;background-color: white;position: relative;}#sk-container-id-21 div.sk-item::before, #sk-container-id-21 div.sk-parallel-item::before {content: \"\";position: absolute;border-left: 1px solid gray;box-sizing: border-box;top: 0;bottom: 0;left: 50%;z-index: -1;}#sk-container-id-21 div.sk-parallel-item {display: flex;flex-direction: column;z-index: 1;position: relative;background-color: white;}#sk-container-id-21 div.sk-parallel-item:first-child::after {align-self: flex-end;width: 50%;}#sk-container-id-21 div.sk-parallel-item:last-child::after {align-self: flex-start;width: 50%;}#sk-container-id-21 div.sk-parallel-item:only-child::after {width: 0;}#sk-container-id-21 div.sk-dashed-wrapped {border: 1px dashed gray;margin: 0 0.4em 0.5em 0.4em;box-sizing: border-box;padding-bottom: 0.4em;background-color: white;}#sk-container-id-21 div.sk-label label {font-family: monospace;font-weight: bold;display: inline-block;line-height: 1.2em;}#sk-container-id-21 div.sk-label-container {text-align: center;}#sk-container-id-21 div.sk-container {/* jupyter's `normalize.less` sets `[hidden] { display: none; }` but bootstrap.min.css set `[hidden] { display: none !important; }` so we also need the `!important` here to be able to override the default hidden behavior on the sphinx rendered scikit-learn.org. See: https://github.com/scikit-learn/scikit-learn/issues/21755 */display: inline-block !important;position: relative;}#sk-container-id-21 div.sk-text-repr-fallback {display: none;}</style><div id=\"sk-container-id-21\" class=\"sk-top-container\"><div class=\"sk-text-repr-fallback\"><pre>CategoricalNB()</pre><b>In a Jupyter environment, please rerun this cell to show the HTML representation or trust the notebook. <br />On GitHub, the HTML representation is unable to render, please try loading this page with nbviewer.org.</b></div><div class=\"sk-container\" hidden><div class=\"sk-item\"><div class=\"sk-estimator sk-toggleable\"><input class=\"sk-toggleable__control sk-hidden--visually\" id=\"sk-estimator-id-21\" type=\"checkbox\" checked><label for=\"sk-estimator-id-21\" class=\"sk-toggleable__label sk-toggleable__label-arrow\">CategoricalNB</label><div class=\"sk-toggleable__content\"><pre>CategoricalNB()</pre></div></div></div></div></div>"
      ],
      "text/plain": [
       "CategoricalNB()"
      ]
     },
     "execution_count": 684,
     "metadata": {},
     "output_type": "execute_result"
    }
   ],
   "source": [
    "mod = CategoricalNB()\n",
    "mod.fit(trainX_prior, trainMultinli)"
   ]
  },
  {
   "cell_type": "code",
   "execution_count": 685,
   "metadata": {},
   "outputs": [
    {
     "data": {
      "text/html": [
       "<style>#sk-container-id-22 {color: black;}#sk-container-id-22 pre{padding: 0;}#sk-container-id-22 div.sk-toggleable {background-color: white;}#sk-container-id-22 label.sk-toggleable__label {cursor: pointer;display: block;width: 100%;margin-bottom: 0;padding: 0.3em;box-sizing: border-box;text-align: center;}#sk-container-id-22 label.sk-toggleable__label-arrow:before {content: \"▸\";float: left;margin-right: 0.25em;color: #696969;}#sk-container-id-22 label.sk-toggleable__label-arrow:hover:before {color: black;}#sk-container-id-22 div.sk-estimator:hover label.sk-toggleable__label-arrow:before {color: black;}#sk-container-id-22 div.sk-toggleable__content {max-height: 0;max-width: 0;overflow: hidden;text-align: left;background-color: #f0f8ff;}#sk-container-id-22 div.sk-toggleable__content pre {margin: 0.2em;color: black;border-radius: 0.25em;background-color: #f0f8ff;}#sk-container-id-22 input.sk-toggleable__control:checked~div.sk-toggleable__content {max-height: 200px;max-width: 100%;overflow: auto;}#sk-container-id-22 input.sk-toggleable__control:checked~label.sk-toggleable__label-arrow:before {content: \"▾\";}#sk-container-id-22 div.sk-estimator input.sk-toggleable__control:checked~label.sk-toggleable__label {background-color: #d4ebff;}#sk-container-id-22 div.sk-label input.sk-toggleable__control:checked~label.sk-toggleable__label {background-color: #d4ebff;}#sk-container-id-22 input.sk-hidden--visually {border: 0;clip: rect(1px 1px 1px 1px);clip: rect(1px, 1px, 1px, 1px);height: 1px;margin: -1px;overflow: hidden;padding: 0;position: absolute;width: 1px;}#sk-container-id-22 div.sk-estimator {font-family: monospace;background-color: #f0f8ff;border: 1px dotted black;border-radius: 0.25em;box-sizing: border-box;margin-bottom: 0.5em;}#sk-container-id-22 div.sk-estimator:hover {background-color: #d4ebff;}#sk-container-id-22 div.sk-parallel-item::after {content: \"\";width: 100%;border-bottom: 1px solid gray;flex-grow: 1;}#sk-container-id-22 div.sk-label:hover label.sk-toggleable__label {background-color: #d4ebff;}#sk-container-id-22 div.sk-serial::before {content: \"\";position: absolute;border-left: 1px solid gray;box-sizing: border-box;top: 0;bottom: 0;left: 50%;z-index: 0;}#sk-container-id-22 div.sk-serial {display: flex;flex-direction: column;align-items: center;background-color: white;padding-right: 0.2em;padding-left: 0.2em;position: relative;}#sk-container-id-22 div.sk-item {position: relative;z-index: 1;}#sk-container-id-22 div.sk-parallel {display: flex;align-items: stretch;justify-content: center;background-color: white;position: relative;}#sk-container-id-22 div.sk-item::before, #sk-container-id-22 div.sk-parallel-item::before {content: \"\";position: absolute;border-left: 1px solid gray;box-sizing: border-box;top: 0;bottom: 0;left: 50%;z-index: -1;}#sk-container-id-22 div.sk-parallel-item {display: flex;flex-direction: column;z-index: 1;position: relative;background-color: white;}#sk-container-id-22 div.sk-parallel-item:first-child::after {align-self: flex-end;width: 50%;}#sk-container-id-22 div.sk-parallel-item:last-child::after {align-self: flex-start;width: 50%;}#sk-container-id-22 div.sk-parallel-item:only-child::after {width: 0;}#sk-container-id-22 div.sk-dashed-wrapped {border: 1px dashed gray;margin: 0 0.4em 0.5em 0.4em;box-sizing: border-box;padding-bottom: 0.4em;background-color: white;}#sk-container-id-22 div.sk-label label {font-family: monospace;font-weight: bold;display: inline-block;line-height: 1.2em;}#sk-container-id-22 div.sk-label-container {text-align: center;}#sk-container-id-22 div.sk-container {/* jupyter's `normalize.less` sets `[hidden] { display: none; }` but bootstrap.min.css set `[hidden] { display: none !important; }` so we also need the `!important` here to be able to override the default hidden behavior on the sphinx rendered scikit-learn.org. See: https://github.com/scikit-learn/scikit-learn/issues/21755 */display: inline-block !important;position: relative;}#sk-container-id-22 div.sk-text-repr-fallback {display: none;}</style><div id=\"sk-container-id-22\" class=\"sk-top-container\"><div class=\"sk-text-repr-fallback\"><pre>CategoricalNB(alpha=4.9)</pre><b>In a Jupyter environment, please rerun this cell to show the HTML representation or trust the notebook. <br />On GitHub, the HTML representation is unable to render, please try loading this page with nbviewer.org.</b></div><div class=\"sk-container\" hidden><div class=\"sk-item\"><div class=\"sk-estimator sk-toggleable\"><input class=\"sk-toggleable__control sk-hidden--visually\" id=\"sk-estimator-id-22\" type=\"checkbox\" checked><label for=\"sk-estimator-id-22\" class=\"sk-toggleable__label sk-toggleable__label-arrow\">CategoricalNB</label><div class=\"sk-toggleable__content\"><pre>CategoricalNB(alpha=4.9)</pre></div></div></div></div></div>"
      ],
      "text/plain": [
       "CategoricalNB(alpha=4.9)"
      ]
     },
     "execution_count": 685,
     "metadata": {},
     "output_type": "execute_result"
    }
   ],
   "source": [
    "model = CategoricalNB(alpha=best_al)\n",
    "model.fit(trainX, trainMultinli)"
   ]
  },
  {
   "cell_type": "code",
   "execution_count": null,
   "metadata": {},
   "outputs": [
    {
     "data": {
      "text/plain": [
       "0.896388395500296"
      ]
     },
     "execution_count": 686,
     "metadata": {},
     "output_type": "execute_result"
    }
   ],
   "source": [
    "yhattrain_prior = mod.predict(trainX_prior)\n",
    "pd.crosstab(yhattrain_prior, trainy)"
   ]
  },
  {
   "cell_type": "code",
   "execution_count": 687,
   "metadata": {},
   "outputs": [
    {
     "data": {
      "text/plain": [
       "0.7619893428063943"
      ]
     },
     "execution_count": 687,
     "metadata": {},
     "output_type": "execute_result"
    }
   ],
   "source": [
    "yhattrain = model.predict(trainX)\n",
    "pd.crosstab(yhattrain, trainy)\n",
    "accuracy_score(yhattrain, trainMultinli)"
   ]
  },
  {
   "cell_type": "code",
   "execution_count": 688,
   "metadata": {},
   "outputs": [
    {
     "data": {
      "text/plain": [
       "array([0, 2, 3, 3, 0, 2, 3, 0, 0])"
      ]
     },
     "execution_count": 688,
     "metadata": {},
     "output_type": "execute_result"
    }
   ],
   "source": [
    "yhattest = model.predict(testX)\n",
    "yhattest[:9]"
   ]
  },
  {
   "cell_type": "code",
   "execution_count": 689,
   "metadata": {},
   "outputs": [],
   "source": [
    "yhattest_prior = mod.predict(testX_prior)"
   ]
  },
  {
   "cell_type": "code",
   "execution_count": 690,
   "metadata": {},
   "outputs": [
    {
     "data": {
      "text/html": [
       "<div>\n",
       "<style scoped>\n",
       "    .dataframe tbody tr th:only-of-type {\n",
       "        vertical-align: middle;\n",
       "    }\n",
       "\n",
       "    .dataframe tbody tr th {\n",
       "        vertical-align: top;\n",
       "    }\n",
       "\n",
       "    .dataframe thead th {\n",
       "        text-align: right;\n",
       "    }\n",
       "</style>\n",
       "<table border=\"1\" class=\"dataframe\">\n",
       "  <thead>\n",
       "    <tr style=\"text-align: right;\">\n",
       "      <th>NObeyesdad</th>\n",
       "      <th>Insufficient_Weight</th>\n",
       "      <th>Normal_Weight</th>\n",
       "      <th>Obesity_Type_I</th>\n",
       "      <th>Obesity_Type_II</th>\n",
       "      <th>Obesity_Type_III</th>\n",
       "      <th>Overweight_Level_I</th>\n",
       "      <th>Overweight_Level_II</th>\n",
       "    </tr>\n",
       "    <tr>\n",
       "      <th>row_0</th>\n",
       "      <th></th>\n",
       "      <th></th>\n",
       "      <th></th>\n",
       "      <th></th>\n",
       "      <th></th>\n",
       "      <th></th>\n",
       "      <th></th>\n",
       "    </tr>\n",
       "  </thead>\n",
       "  <tbody>\n",
       "    <tr>\n",
       "      <th>0</th>\n",
       "      <td>20</td>\n",
       "      <td>25</td>\n",
       "      <td>4</td>\n",
       "      <td>0</td>\n",
       "      <td>0</td>\n",
       "      <td>8</td>\n",
       "      <td>5</td>\n",
       "    </tr>\n",
       "    <tr>\n",
       "      <th>1</th>\n",
       "      <td>16</td>\n",
       "      <td>28</td>\n",
       "      <td>4</td>\n",
       "      <td>3</td>\n",
       "      <td>1</td>\n",
       "      <td>16</td>\n",
       "      <td>3</td>\n",
       "    </tr>\n",
       "    <tr>\n",
       "      <th>2</th>\n",
       "      <td>5</td>\n",
       "      <td>1</td>\n",
       "      <td>21</td>\n",
       "      <td>12</td>\n",
       "      <td>25</td>\n",
       "      <td>10</td>\n",
       "      <td>12</td>\n",
       "    </tr>\n",
       "    <tr>\n",
       "      <th>3</th>\n",
       "      <td>2</td>\n",
       "      <td>0</td>\n",
       "      <td>9</td>\n",
       "      <td>6</td>\n",
       "      <td>0</td>\n",
       "      <td>3</td>\n",
       "      <td>12</td>\n",
       "    </tr>\n",
       "    <tr>\n",
       "      <th>4</th>\n",
       "      <td>0</td>\n",
       "      <td>0</td>\n",
       "      <td>5</td>\n",
       "      <td>0</td>\n",
       "      <td>3</td>\n",
       "      <td>2</td>\n",
       "      <td>1</td>\n",
       "    </tr>\n",
       "    <tr>\n",
       "      <th>5</th>\n",
       "      <td>10</td>\n",
       "      <td>5</td>\n",
       "      <td>10</td>\n",
       "      <td>16</td>\n",
       "      <td>6</td>\n",
       "      <td>19</td>\n",
       "      <td>6</td>\n",
       "    </tr>\n",
       "    <tr>\n",
       "      <th>6</th>\n",
       "      <td>1</td>\n",
       "      <td>3</td>\n",
       "      <td>19</td>\n",
       "      <td>21</td>\n",
       "      <td>21</td>\n",
       "      <td>8</td>\n",
       "      <td>15</td>\n",
       "    </tr>\n",
       "  </tbody>\n",
       "</table>\n",
       "</div>"
      ],
      "text/plain": [
       "NObeyesdad  Insufficient_Weight  Normal_Weight  Obesity_Type_I  \\\n",
       "row_0                                                            \n",
       "0                            20             25               4   \n",
       "1                            16             28               4   \n",
       "2                             5              1              21   \n",
       "3                             2              0               9   \n",
       "4                             0              0               5   \n",
       "5                            10              5              10   \n",
       "6                             1              3              19   \n",
       "\n",
       "NObeyesdad  Obesity_Type_II  Obesity_Type_III  Overweight_Level_I  \\\n",
       "row_0                                                               \n",
       "0                         0                 0                   8   \n",
       "1                         3                 1                  16   \n",
       "2                        12                25                  10   \n",
       "3                         6                 0                   3   \n",
       "4                         0                 3                   2   \n",
       "5                        16                 6                  19   \n",
       "6                        21                21                   8   \n",
       "\n",
       "NObeyesdad  Overweight_Level_II  \n",
       "row_0                            \n",
       "0                             5  \n",
       "1                             3  \n",
       "2                            12  \n",
       "3                            12  \n",
       "4                             1  \n",
       "5                             6  \n",
       "6                            15  "
      ]
     },
     "execution_count": 690,
     "metadata": {},
     "output_type": "execute_result"
    }
   ],
   "source": [
    "pd.crosstab(yhattest_prior, testy)"
   ]
  },
  {
   "cell_type": "code",
   "execution_count": 691,
   "metadata": {},
   "outputs": [
    {
     "data": {
      "text/html": [
       "<div>\n",
       "<style scoped>\n",
       "    .dataframe tbody tr th:only-of-type {\n",
       "        vertical-align: middle;\n",
       "    }\n",
       "\n",
       "    .dataframe tbody tr th {\n",
       "        vertical-align: top;\n",
       "    }\n",
       "\n",
       "    .dataframe thead th {\n",
       "        text-align: right;\n",
       "    }\n",
       "</style>\n",
       "<table border=\"1\" class=\"dataframe\">\n",
       "  <thead>\n",
       "    <tr style=\"text-align: right;\">\n",
       "      <th>NObeyesdad</th>\n",
       "      <th>Insufficient_Weight</th>\n",
       "      <th>Normal_Weight</th>\n",
       "      <th>Obesity_Type_I</th>\n",
       "      <th>Obesity_Type_II</th>\n",
       "      <th>Obesity_Type_III</th>\n",
       "      <th>Overweight_Level_I</th>\n",
       "      <th>Overweight_Level_II</th>\n",
       "    </tr>\n",
       "    <tr>\n",
       "      <th>row_0</th>\n",
       "      <th></th>\n",
       "      <th></th>\n",
       "      <th></th>\n",
       "      <th></th>\n",
       "      <th></th>\n",
       "      <th></th>\n",
       "      <th></th>\n",
       "    </tr>\n",
       "  </thead>\n",
       "  <tbody>\n",
       "    <tr>\n",
       "      <th>0</th>\n",
       "      <td>37</td>\n",
       "      <td>20</td>\n",
       "      <td>1</td>\n",
       "      <td>0</td>\n",
       "      <td>0</td>\n",
       "      <td>6</td>\n",
       "      <td>0</td>\n",
       "    </tr>\n",
       "    <tr>\n",
       "      <th>1</th>\n",
       "      <td>5</td>\n",
       "      <td>30</td>\n",
       "      <td>4</td>\n",
       "      <td>1</td>\n",
       "      <td>0</td>\n",
       "      <td>12</td>\n",
       "      <td>2</td>\n",
       "    </tr>\n",
       "    <tr>\n",
       "      <th>2</th>\n",
       "      <td>0</td>\n",
       "      <td>1</td>\n",
       "      <td>24</td>\n",
       "      <td>8</td>\n",
       "      <td>0</td>\n",
       "      <td>12</td>\n",
       "      <td>9</td>\n",
       "    </tr>\n",
       "    <tr>\n",
       "      <th>3</th>\n",
       "      <td>11</td>\n",
       "      <td>6</td>\n",
       "      <td>31</td>\n",
       "      <td>48</td>\n",
       "      <td>0</td>\n",
       "      <td>16</td>\n",
       "      <td>32</td>\n",
       "    </tr>\n",
       "    <tr>\n",
       "      <th>4</th>\n",
       "      <td>0</td>\n",
       "      <td>2</td>\n",
       "      <td>9</td>\n",
       "      <td>0</td>\n",
       "      <td>56</td>\n",
       "      <td>4</td>\n",
       "      <td>2</td>\n",
       "    </tr>\n",
       "    <tr>\n",
       "      <th>5</th>\n",
       "      <td>1</td>\n",
       "      <td>1</td>\n",
       "      <td>2</td>\n",
       "      <td>1</td>\n",
       "      <td>0</td>\n",
       "      <td>16</td>\n",
       "      <td>1</td>\n",
       "    </tr>\n",
       "    <tr>\n",
       "      <th>6</th>\n",
       "      <td>0</td>\n",
       "      <td>2</td>\n",
       "      <td>1</td>\n",
       "      <td>0</td>\n",
       "      <td>0</td>\n",
       "      <td>0</td>\n",
       "      <td>8</td>\n",
       "    </tr>\n",
       "  </tbody>\n",
       "</table>\n",
       "</div>"
      ],
      "text/plain": [
       "NObeyesdad  Insufficient_Weight  Normal_Weight  Obesity_Type_I  \\\n",
       "row_0                                                            \n",
       "0                            37             20               1   \n",
       "1                             5             30               4   \n",
       "2                             0              1              24   \n",
       "3                            11              6              31   \n",
       "4                             0              2               9   \n",
       "5                             1              1               2   \n",
       "6                             0              2               1   \n",
       "\n",
       "NObeyesdad  Obesity_Type_II  Obesity_Type_III  Overweight_Level_I  \\\n",
       "row_0                                                               \n",
       "0                         0                 0                   6   \n",
       "1                         1                 0                  12   \n",
       "2                         8                 0                  12   \n",
       "3                        48                 0                  16   \n",
       "4                         0                56                   4   \n",
       "5                         1                 0                  16   \n",
       "6                         0                 0                   0   \n",
       "\n",
       "NObeyesdad  Overweight_Level_II  \n",
       "row_0                            \n",
       "0                             0  \n",
       "1                             2  \n",
       "2                             9  \n",
       "3                            32  \n",
       "4                             2  \n",
       "5                             1  \n",
       "6                             8  "
      ]
     },
     "execution_count": 691,
     "metadata": {},
     "output_type": "execute_result"
    }
   ],
   "source": [
    "pd.crosstab(yhattest, testy)"
   ]
  },
  {
   "cell_type": "markdown",
   "metadata": {},
   "source": [
    "## Model Evaluation"
   ]
  },
  {
   "cell_type": "code",
   "execution_count": 692,
   "metadata": {},
   "outputs": [
    {
     "data": {
      "text/plain": [
       "array([[181,  37,   0,   0,   0,   0,   0],\n",
       "       [  0, 225,   0,   0,   0,   0,   0],\n",
       "       [  0,  34, 245,   0,   0,   0,   0],\n",
       "       [  0,   9,   0, 230,   0,   0,   0],\n",
       "       [  0,   3,   0,   0, 265,   0,   0],\n",
       "       [  0,  42,   0,   0,   0, 182,   0],\n",
       "       [  0,  48,   2,   0,   0,   0, 186]], dtype=int64)"
      ]
     },
     "execution_count": 692,
     "metadata": {},
     "output_type": "execute_result"
    }
   ],
   "source": [
    "confM_train_prior = confusion_matrix(trainMultinli, yhattrain_prior)\n",
    "confM_train_prior"
   ]
  },
  {
   "cell_type": "code",
   "execution_count": 704,
   "metadata": {},
   "outputs": [
    {
     "data": {
      "image/png": "[encoded data removed]",
      "text/plain": [
       "<Figure size 1000x800 with 2 Axes>"
      ]
     },
     "metadata": {},
     "output_type": "display_data"
    }
   ],
   "source": [
    "plt.figure(figsize=(10, 8))\n",
    "\n",
    "sns.heatmap(confM_train_prior, annot=True, fmt=\"d\", cmap=\"inferno\", xticklabels=np.unique(yhattest), yticklabels=np.unique(yhattest))\n",
    "\n",
    "plt.title(\"Confusion Matrix\")\n",
    "plt.xlabel(\"Predicted Lebels\")\n",
    "plt.ylabel(\"Actual Labels\")\n",
    "\n",
    "plt.show()"
   ]
  },
  {
   "cell_type": "code",
   "execution_count": 694,
   "metadata": {},
   "outputs": [
    {
     "data": {
      "text/plain": [
       "array([[ 97,  66,  26,  13,   3,   0,  13],\n",
       "       [  0, 225,   0,   0,   0,   0,   0],\n",
       "       [  0,  33, 233,   1,  12,   0,   0],\n",
       "       [  0,   9,   6, 224,   0,   0,   0],\n",
       "       [  0,   3,   0,   0, 265,   0,   0],\n",
       "       [  0,  47,  39,   3,   9, 120,   6],\n",
       "       [  0,  58,  46,   7,   2,   0, 123]], dtype=int64)"
      ]
     },
     "execution_count": 694,
     "metadata": {},
     "output_type": "execute_result"
    }
   ],
   "source": [
    "confM_train = confusion_matrix(trainMultinli, yhattrain)\n",
    "confM_train"
   ]
  },
  {
   "cell_type": "code",
   "execution_count": 695,
   "metadata": {},
   "outputs": [
    {
     "data": {
      "image/png": "[encoded data removed]",
      "text/plain": [
       "<Figure size 1000x800 with 2 Axes>"
      ]
     },
     "metadata": {},
     "output_type": "display_data"
    }
   ],
   "source": [
    "plt.figure(figsize=(10, 8))\n",
    "\n",
    "sns.heatmap(confM_train, annot=True, fmt=\"d\", cmap=\"viridis\", xticklabels=np.unique(yhattest), yticklabels=np.unique(yhattest))\n",
    "\n",
    "plt.title(\"Confusion Matrix\")\n",
    "plt.xlabel(\"Predicted Lebels\")\n",
    "plt.ylabel(\"Actual Labels\")\n",
    "\n",
    "plt.show()"
   ]
  },
  {
   "cell_type": "code",
   "execution_count": 696,
   "metadata": {},
   "outputs": [
    {
     "data": {
      "text/plain": [
       "array([[20, 16,  5,  2,  0, 10,  1],\n",
       "       [25, 28,  1,  0,  0,  5,  3],\n",
       "       [ 4,  4, 21,  9,  5, 10, 19],\n",
       "       [ 0,  3, 12,  6,  0, 16, 21],\n",
       "       [ 0,  1, 25,  0,  3,  6, 21],\n",
       "       [ 8, 16, 10,  3,  2, 19,  8],\n",
       "       [ 5,  3, 12, 12,  1,  6, 15]], dtype=int64)"
      ]
     },
     "execution_count": 696,
     "metadata": {},
     "output_type": "execute_result"
    }
   ],
   "source": [
    "confM_test_prior = confusion_matrix(testMultinli, yhattest_prior)\n",
    "confM_test_prior"
   ]
  },
  {
   "cell_type": "code",
   "execution_count": 705,
   "metadata": {},
   "outputs": [
    {
     "data": {
      "image/png": "[encoded data removed]",
      "text/plain": [
       "<Figure size 1000x800 with 2 Axes>"
      ]
     },
     "metadata": {},
     "output_type": "display_data"
    }
   ],
   "source": [
    "#Create heatmap\n",
    "plt.figure(figsize=(10, 8))\n",
    "\n",
    "sns.heatmap(confM_test_prior, annot=True, fmt=\"d\", cmap=\"inferno\", xticklabels=np.unique(yhattest), yticklabels=np.unique(yhattest))\n",
    "\n",
    "plt.title(\"Confusion Matrix\")\n",
    "plt.xlabel(\"Predicted Lebels\")\n",
    "plt.ylabel(\"Actual Labels\")\n",
    "\n",
    "plt.show()"
   ]
  },
  {
   "cell_type": "code",
   "execution_count": 698,
   "metadata": {},
   "outputs": [
    {
     "data": {
      "text/plain": [
       "array([[37,  5,  0, 11,  0,  1,  0],\n",
       "       [20, 30,  1,  6,  2,  1,  2],\n",
       "       [ 1,  4, 24, 31,  9,  2,  1],\n",
       "       [ 0,  1,  8, 48,  0,  1,  0],\n",
       "       [ 0,  0,  0,  0, 56,  0,  0],\n",
       "       [ 6, 12, 12, 16,  4, 16,  0],\n",
       "       [ 0,  2,  9, 32,  2,  1,  8]], dtype=int64)"
      ]
     },
     "execution_count": 698,
     "metadata": {},
     "output_type": "execute_result"
    }
   ],
   "source": [
    "confM_test = confusion_matrix(testMultinli, yhattest)\n",
    "confM_test"
   ]
  },
  {
   "cell_type": "code",
   "execution_count": 699,
   "metadata": {},
   "outputs": [
    {
     "data": {
      "image/png": "[encoded data removed]",
      "text/plain": [
       "<Figure size 1000x800 with 2 Axes>"
      ]
     },
     "metadata": {},
     "output_type": "display_data"
    }
   ],
   "source": [
    "#Create heatmap\n",
    "plt.figure(figsize=(10, 8))\n",
    "\n",
    "sns.heatmap(confM_test, annot=True, fmt=\"d\", cmap=\"viridis\", xticklabels=np.unique(yhattest), yticklabels=np.unique(yhattest))\n",
    "\n",
    "plt.title(\"Confusion Matrix\")\n",
    "plt.xlabel(\"Predicted Lebels\")\n",
    "plt.ylabel(\"Actual Labels\")\n",
    "\n",
    "plt.show()"
   ]
  },
  {
   "cell_type": "code",
   "execution_count": 701,
   "metadata": {},
   "outputs": [
    {
     "data": {
      "text/plain": [
       "0.896388395500296"
      ]
     },
     "execution_count": 701,
     "metadata": {},
     "output_type": "execute_result"
    }
   ],
   "source": [
    "accuracy_score(yhattrain_prior, trainMultinli)"
   ]
  },
  {
   "cell_type": "code",
   "execution_count": 703,
   "metadata": {},
   "outputs": [
    {
     "data": {
      "text/plain": [
       "0.26540284360189575"
      ]
     },
     "execution_count": 703,
     "metadata": {},
     "output_type": "execute_result"
    }
   ],
   "source": [
    "accuracy_score(yhattest_prior, testMultinli)"
   ]
  },
  {
   "cell_type": "code",
   "execution_count": null,
   "metadata": {},
   "outputs": [
    {
     "name": "stdout",
     "output_type": "stream",
     "text": [
      "Accuracy:  0.7619893428063943\n"
     ]
    }
   ],
   "source": [
    "accurate_rate_train = accuracy_score(trainMultinli, yhattrain)\n",
    "print(\"Accuracy: \", accurate_rate_train)"
   ]
  },
  {
   "cell_type": "code",
   "execution_count": null,
   "metadata": {},
   "outputs": [
    {
     "name": "stdout",
     "output_type": "stream",
     "text": [
      "Accuracy:  0.518957345971564\n"
     ]
    }
   ],
   "source": [
    "accurate_rate_test = accuracy_score(testMultinli, yhattest)\n",
    "print(\"Accuracy: \", accurate_rate_test)"
   ]
  },
  {
   "cell_type": "code",
   "execution_count": null,
   "metadata": {},
   "outputs": [
    {
     "name": "stdout",
     "output_type": "stream",
     "text": [
      "Class 0 - FNR: 0.6296296296296297\n",
      "Class 1 - FNR: 0.5483870967741935\n",
      "Class 2 - FNR: 0.7083333333333334\n",
      "Class 3 - FNR: 0.896551724137931\n",
      "Class 4 - FNR: 0.9464285714285714\n",
      "Class 5 - FNR: 0.7121212121212122\n",
      "Class 6 - FNR: 0.7222222222222222\n"
     ]
    }
   ],
   "source": [
    "#Calculate False Negative rate\n",
    "# FNR = FN / (FN + TP)\n",
    "class_FNR = {}\n",
    "for i in range(confM_test_prior.shape[0]):\n",
    "    TP = confM_test_prior[i, i]\n",
    "    FN = confM_test_prior[i, :].sum() - TP\n",
    "    FNR = FN / (FN + TP)\n",
    "    class_FNR[i] = FNR\n",
    "\n",
    "# Print FNR for each class\n",
    "for class_id, fnr in class_FNR.items():\n",
    "    print(f\"Class {class_id} - FNR: {fnr}\")"
   ]
  },
  {
   "cell_type": "code",
   "execution_count": null,
   "metadata": {},
   "outputs": [
    {
     "name": "stdout",
     "output_type": "stream",
     "text": [
      "Class 0 - FNR: 0.3148148148148148\n",
      "Class 1 - FNR: 0.5161290322580645\n",
      "Class 2 - FNR: 0.6666666666666666\n",
      "Class 3 - FNR: 0.1724137931034483\n",
      "Class 4 - FNR: 0.0\n",
      "Class 5 - FNR: 0.7575757575757576\n",
      "Class 6 - FNR: 0.8518518518518519\n"
     ]
    }
   ],
   "source": [
    "#Calculate False Negative rate\n",
    "# FNR = FN / (FN + TP)\n",
    "class_FNR = {}\n",
    "for i in range(confM_test.shape[0]):\n",
    "    TP = confM_test[i, i]\n",
    "    FN = confM_test[i, :].sum() - TP\n",
    "    FNR = FN / (FN + TP)\n",
    "    class_FNR[i] = FNR\n",
    "\n",
    "# Print FNR for each class\n",
    "for class_id, fnr in class_FNR.items():\n",
    "    print(f\"Class {class_id} - FNR: {fnr}\")"
   ]
  },
  {
   "cell_type": "markdown",
   "metadata": {},
   "source": [
    "## Conclusion\n",
    "The first time I made this Naive Bayes model on predicting the obesity level of each person, I got the very high accuracy but the matrix is weird. The previous metrix shows that the diagonal contains very high values while the surrounded area contains zeros which is too perfect! It could be caused from overfitting or data leakage. I noticed that the prior train set's confusion matrix and its accuracy is high, and test set's confusion matrix and its accuracy is pretty low. However, when I run new training set by selecting only columns I interested in, so it turns out that the train set's accuracy is lower and test set's accuracy is higher which is better than before because our model is not too flexible. As discussed from the office hour, I am now understand how to observe the confusion matrix as well as the machine learning purpose and its process. For this dataset, the ideal accuracy should be 1/7 or around 14%. I tried several features selecting on training model and found that the best one, I could do, has accuracy around 52% which is higher than the ideal accuracy :)"
   ]
  },
  {
   "cell_type": "markdown",
   "metadata": {},
   "source": [
    "### Reference:\n",
    "Estimation of Obesity Levels Based On Eating Habits and Physical Condition  [Dataset]. (2019). UCI Machine Learning Repository. https://doi.org/10.24432/C5H31Z.\n",
    "\n",
    "### Link:\n",
    "https://archive.ics.uci.edu/dataset/544/estimation+of+obesity+levels+based+on+eating+habits+and+physical+condition\n"
   ]
  }
 ],
 "metadata": {
  "kernelspec": {
   "display_name": "base",
   "language": "python",
   "name": "python3"
  },
  "language_info": {
   "codemirror_mode": {
    "name": "ipython",
    "version": 3
   },
   "file_extension": ".py",
   "mimetype": "text/x-python",
   "name": "python",
   "nbconvert_exporter": "python",
   "pygments_lexer": "ipython3",
   "version": "3.11.5"
  }
 },
 "nbformat": 4,
 "nbformat_minor": 2
}
